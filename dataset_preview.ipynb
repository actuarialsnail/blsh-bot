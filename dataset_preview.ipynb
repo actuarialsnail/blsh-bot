{
 "metadata": {
  "language_info": {
   "codemirror_mode": {
    "name": "ipython",
    "version": 3
   },
   "file_extension": ".py",
   "mimetype": "text/x-python",
   "name": "python",
   "nbconvert_exporter": "python",
   "pygments_lexer": "ipython3",
   "version": "3.8.3-final"
  },
  "orig_nbformat": 2,
  "kernelspec": {
   "name": "python3",
   "display_name": "Python 3.8.3 64-bit ('base': conda)",
   "metadata": {
    "interpreter": {
     "hash": "2cdf8a551c20e297eb01e196fae35fd945f30e12e2ab249e597d31c6ce45893a"
    }
   }
  }
 },
 "nbformat": 4,
 "nbformat_minor": 2,
 "cells": [
  {
   "cell_type": "code",
   "execution_count": 1,
   "metadata": {},
   "outputs": [],
   "source": [
    "import numpy as np"
   ]
  },
  {
   "cell_type": "code",
   "execution_count": 3,
   "metadata": {},
   "outputs": [],
   "source": [
    "train_data = np.load('./datasets/train/binance_dataset_2021-02-07_2377073425.npy')"
   ]
  },
  {
   "cell_type": "code",
   "execution_count": 4,
   "metadata": {},
   "outputs": [
    {
     "output_type": "execute_result",
     "data": {
      "text/plain": [
       "(68875, 41)"
      ]
     },
     "metadata": {},
     "execution_count": 4
    }
   ],
   "source": [
    "train_data.shape"
   ]
  },
  {
   "cell_type": "code",
   "execution_count": 6,
   "metadata": {},
   "outputs": [
    {
     "output_type": "execute_result",
     "data": {
      "text/plain": [
       "array([[4.27760e-02, 4.27330e-02, 9.85010e+01, ..., 1.34920e+01,\n",
       "        4.32040e-02, 1.83207e+02],\n",
       "       [4.28160e-02, 4.27510e-02, 8.60660e+01, ..., 4.91867e+02,\n",
       "        4.32220e-02, 2.29363e+02],\n",
       "       [4.27980e-02, 4.27550e-02, 9.31350e+01, ..., 4.91342e+02,\n",
       "        4.32260e-02, 2.20629e+02],\n",
       "       ...,\n",
       "       [4.13290e-02, 4.12880e-02, 3.10762e+02, ..., 1.30030e+01,\n",
       "        4.17420e-02, 4.11950e+01],\n",
       "       [4.13250e-02, 4.12830e-02, 2.90226e+02, ..., 1.30470e+01,\n",
       "        4.17370e-02, 9.12580e+01],\n",
       "       [4.13250e-02, 4.12830e-02, 2.94834e+02, ..., 1.30470e+01,\n",
       "        4.17370e-02, 9.12580e+01]])"
      ]
     },
     "metadata": {},
     "execution_count": 6
    }
   ],
   "source": [
    "train_data"
   ]
  },
  {
   "cell_type": "code",
   "execution_count": 21,
   "metadata": {},
   "outputs": [
    {
     "output_type": "execute_result",
     "data": {
      "text/plain": [
       "array([[ 1,  2,  3,  5,  7],\n",
       "       [ 1,  4,  5,  6,  7],\n",
       "       [ 5,  8,  9, 10, 32],\n",
       "       [ 3,  5,  6, 13, 11]])"
      ]
     },
     "metadata": {},
     "execution_count": 21
    }
   ],
   "source": [
    "a = np.array([[1,2,3,5,7], [1,4,5,6,7],[5,8,9,10,32],[3,5,6,13,11]])\n",
    "a"
   ]
  },
  {
   "cell_type": "code",
   "execution_count": 32,
   "metadata": {},
   "outputs": [
    {
     "output_type": "execute_result",
     "data": {
      "text/plain": [
       "array([[ 0.        ,  0.2       ,  0.        ],\n",
       "       [-0.4       ,  0.        ,  0.        ],\n",
       "       [-0.22222222,  0.        ,  0.65625   ],\n",
       "       [-0.16666667,  0.46153846, -0.81818182]])"
      ]
     },
     "metadata": {},
     "execution_count": 32
    }
   ],
   "source": [
    "offset = 2\n",
    "np.diff(a,offset) / a[:,offset:]"
   ]
  },
  {
   "cell_type": "code",
   "execution_count": 34,
   "metadata": {},
   "outputs": [
    {
     "output_type": "execute_result",
     "data": {
      "text/plain": [
       "array([[ 4,  6,  6,  5, 25],\n",
       "       [ 2,  1,  1,  7,  4]])"
      ]
     },
     "metadata": {},
     "execution_count": 34
    }
   ],
   "source": [
    "d =2\n",
    "a[d:] - a[:-d]"
   ]
  },
  {
   "cell_type": "code",
   "execution_count": 53,
   "metadata": {},
   "outputs": [
    {
     "output_type": "execute_result",
     "data": {
      "text/plain": [
       "array([[ 1,  2,  3,  5,  7],\n",
       "       [ 1,  4,  5,  6,  7],\n",
       "       [ 5,  8,  9, 10, 32]])"
      ]
     },
     "metadata": {},
     "execution_count": 53
    }
   ],
   "source": [
    "a[0:3,:]"
   ]
  }
 ]
}