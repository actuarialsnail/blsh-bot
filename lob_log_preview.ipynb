{
 "metadata": {
  "language_info": {
   "codemirror_mode": {
    "name": "ipython",
    "version": 3
   },
   "file_extension": ".py",
   "mimetype": "text/x-python",
   "name": "python",
   "nbconvert_exporter": "python",
   "pygments_lexer": "ipython3",
   "version": "3.8.3-final"
  },
  "orig_nbformat": 2,
  "kernelspec": {
   "name": "python3",
   "display_name": "Python 3.8.3 64-bit ('anaconda3': virtualenv)",
   "metadata": {
    "interpreter": {
     "hash": "2cdf8a551c20e297eb01e196fae35fd945f30e12e2ab249e597d31c6ce45893a"
    }
   }
  }
 },
 "nbformat": 4,
 "nbformat_minor": 2,
 "cells": [
  {
   "cell_type": "code",
   "execution_count": 1,
   "metadata": {},
   "outputs": [],
   "source": [
    "import numpy as np\n",
    "import pandas as pd\n",
    "import os\n",
    "import glob\n",
    "import random\n",
    "import json\n",
    "from pandas.io.json import json_normalize"
   ]
  },
  {
   "cell_type": "code",
   "execution_count": 2,
   "metadata": {},
   "outputs": [],
   "source": [
    "# file path\n",
    "input_path = './lob-databot/binance-eth_btc/'\n",
    "\n",
    "# data specification parameters\n",
    "max_level = 100  # 0.1% price intervals x 100 -> +-10% price movement, each level has 4 features, bid/ask x price/size\n",
    "feature_level = 10  # -1% to 1% range"
   ]
  },
  {
   "cell_type": "code",
   "execution_count": 3,
   "metadata": {},
   "outputs": [
    {
     "output_type": "execute_result",
     "data": {
      "text/plain": [
       "'./lob-databot/binance-eth_btc/binance_dataset_2021-02-24_2565920523.csv'"
      ]
     },
     "metadata": {},
     "execution_count": 3
    }
   ],
   "source": [
    "# pick random file for inspection\n",
    "input_file = random.choice(glob.glob(input_path + '/*'))\n",
    "override_input_file = \"\"\n",
    "if override_input_file:\n",
    "    input_file = override_input_file\n",
    "input_file"
   ]
  },
  {
   "cell_type": "code",
   "execution_count": 4,
   "metadata": {},
   "outputs": [],
   "source": [
    "# create headers\n",
    "lob_list = []\n",
    "for side in ['bid', 'ask']:\n",
    "    for i in range(max_level):\n",
    "        lob_list.append(side + 'price' + str(i+1))\n",
    "        lob_list.append(side + 'size' + str(i+1))\n",
    "header_list = ['timestamp', 'last']\n",
    "header_list.extend(lob_list)\n",
    "\n",
    "new_lob_order = []\n",
    "for i in range(feature_level):\n",
    "    for side in ['bid', 'ask']:\n",
    "        new_lob_order.append(side + 'price' + str(i+1))\n",
    "        new_lob_order.append(side + 'size' + str(i+1))\n",
    "new_lob_order = ['last'] + new_lob_order"
   ]
  },
  {
   "cell_type": "code",
   "execution_count": 5,
   "metadata": {},
   "outputs": [],
   "source": [
    "def define_y_labels(y, prediction_period, band_size = 0.001):\n",
    "    bins = [-np.inf, -band_size, band_size, np.inf]\n",
    "    names = [0, 1, 2]\n",
    "    y_labels = pd.cut(y.pct_change(periods=prediction_period), bins, labels=names)\n",
    "    return y_labels"
   ]
  },
  {
   "cell_type": "code",
   "execution_count": 6,
   "metadata": {},
   "outputs": [],
   "source": [
    "delta_t = [600,300,100]\n",
    "delta_cat_count_json = {}"
   ]
  },
  {
   "cell_type": "code",
   "execution_count": 7,
   "metadata": {},
   "outputs": [
    {
     "output_type": "stream",
     "name": "stdout",
     "text": [
      "processing ./lob-databot/binance-eth_btc/binance_dataset_2021-02-07_2377073425.csv\n",
      "processing ./lob-databot/binance-eth_btc/binance_dataset_2021-02-08_2420569459.csv\n",
      "processing ./lob-databot/binance-eth_btc/binance_dataset_2021-01-20_2206742115.csv\n",
      "processing ./lob-databot/binance-eth_btc/binance_dataset_2021-02-11_2448256654.csv\n",
      "processing ./lob-databot/binance-eth_btc/binance_dataset_2021-02-26_2570438093.csv\n",
      "processing ./lob-databot/binance-eth_btc/binance_dataset_2021-02-20_2472772879.csv\n",
      "processing ./lob-databot/binance-eth_btc/binance_dataset_2021-02-19_2472772879.csv\n",
      "processing ./lob-databot/binance-eth_btc/binance_dataset_2021-02-08_2420520732.csv\n",
      "processing ./lob-databot/binance-eth_btc/binance_dataset_2021-01-21_2230078401.csv\n",
      "processing ./lob-databot/binance-eth_btc/binance_dataset_2021-02-22_2472772879.csv\n",
      "processing ./lob-databot/binance-eth_btc/binance_dataset_2021-01-21_2229139167.csv\n",
      "processing ./lob-databot/binance-eth_btc/binance_dataset_2021-02-17_2472772879.csv\n",
      "processing ./lob-databot/binance-eth_btc/binance_dataset_2021-01-27_2230078401.csv\n",
      "processing ./lob-databot/binance-eth_btc/binance_dataset_2021-01-29_2230078401.csv\n",
      "processing ./lob-databot/binance-eth_btc/binance_dataset_2021-01-16_2194535408.csv\n",
      "processing ./lob-databot/binance-eth_btc/binance_dataset_2021-02-24_2472772879.csv\n",
      "processing ./lob-databot/binance-eth_btc/binance_dataset_2021-01-24_2230078401.csv\n",
      "processing ./lob-databot/binance-eth_btc/binance_dataset_2021-02-08_2420557340.csv\n",
      "processing ./lob-databot/binance-eth_btc/binance_dataset_2021-02-27_2593012960.csv\n",
      "processing ./lob-databot/binance-eth_btc/binance_dataset_2021-02-26_2592533213.csv\n",
      "processing ./lob-databot/binance-eth_btc/binance_dataset_2021-02-13_2448256654.csv\n",
      "processing ./lob-databot/binance-eth_btc/binance_dataset_2021-02-24_2570438093.csv\n",
      "processing ./lob-databot/binance-eth_btc/binance_dataset_2021-01-20_2229139167.csv\n",
      "processing ./lob-databot/binance-eth_btc/binance_dataset_2021-01-17_2200923866.csv\n",
      "processing ./lob-databot/binance-eth_btc/binance_dataset_2021-02-14_2472772879.csv\n",
      "processing ./lob-databot/binance-eth_btc/binance_dataset_2021-01-30_2230078401.csv\n",
      "processing ./lob-databot/binance-eth_btc/binance_dataset_2021-02-05_2377073425.csv\n",
      "processing ./lob-databot/binance-eth_btc/binance_dataset_2021-02-11_2420569459.csv\n",
      "processing ./lob-databot/binance-eth_btc/binance_dataset_2021-02-02_2230078401.csv\n",
      "processing ./lob-databot/binance-eth_btc/binance_dataset_2021-01-16.csv\n",
      "processing ./lob-databot/binance-eth_btc/binance_dataset_2021-01-23_2230078401.csv\n",
      "processing ./lob-databot/binance-eth_btc/binance_dataset_2021-02-12_2448256654.csv\n",
      "processing ./lob-databot/binance-eth_btc/binance_dataset_2021-02-18_2472772879.csv\n",
      "processing ./lob-databot/binance-eth_btc/binance_dataset_2021-02-03_2230078401.csv\n",
      "processing ./lob-databot/binance-eth_btc/binance_dataset_2021-02-13_2472237287.csv\n",
      "processing ./lob-databot/binance-eth_btc/binance_dataset_2021-02-24_2565920523.csv\n",
      "processing ./lob-databot/binance-eth_btc/binance_dataset_2021-01-28_2230078401.csv\n",
      "processing ./lob-databot/binance-eth_btc/binance_dataset_2021-02-13_2470289470.csv\n",
      "processing ./lob-databot/binance-eth_btc/binance_dataset_2021-01-16_2195076522.csv\n",
      "processing ./lob-databot/binance-eth_btc/binance_dataset_2021-01-18_2200923866.csv\n",
      "processing ./lob-databot/binance-eth_btc/binance_dataset_2021-01-17_2195076522.csv\n",
      "processing ./lob-databot/binance-eth_btc/binance_dataset_2021-01-17_2199048273.csv\n",
      "processing ./lob-databot/binance-eth_btc/binance_dataset_2021-02-01_2230078401.csv\n",
      "processing ./lob-databot/binance-eth_btc/binance_dataset_2021-02-04_2377073425.csv\n",
      "processing ./lob-databot/binance-eth_btc/binance_dataset_2021-02-21_2472772879.csv\n",
      "processing ./lob-databot/binance-eth_btc/binance_dataset_2021-02-08_2377073425.csv\n",
      "processing ./lob-databot/binance-eth_btc/binance_dataset_2021-01-19_2206742115.csv\n",
      "processing ./lob-databot/binance-eth_btc/binance_dataset_2021-02-24_2569873223.csv\n",
      "processing ./lob-databot/binance-eth_btc/binance_dataset_2021-02-26_2593012960.csv\n",
      "processing ./lob-databot/binance-eth_btc/binance_dataset_2021-01-25_2230078401.csv\n",
      "processing ./lob-databot/binance-eth_btc/binance_dataset_2021-02-04_2230078401.csv\n",
      "processing ./lob-databot/binance-eth_btc/binance_dataset_2021-02-26_2592982561.csv\n",
      "processing ./lob-databot/binance-eth_btc/binance_dataset_2021-02-23_2472772879.csv\n",
      "processing ./lob-databot/binance-eth_btc/binance_dataset_2021-02-15_2472772879.csv\n",
      "processing ./lob-databot/binance-eth_btc/binance_dataset_2021-02-06_2377073425.csv\n",
      "processing ./lob-databot/binance-eth_btc/binance_dataset_2021-01-18_2206742115.csv\n",
      "processing ./lob-databot/binance-eth_btc/binance_dataset_2021-01-26_2230078401.csv\n",
      "processing ./lob-databot/binance-eth_btc/binance_dataset_2021-01-22_2230078401.csv\n",
      "processing ./lob-databot/binance-eth_btc/binance_dataset_2021-01-31_2230078401.csv\n",
      "processing ./lob-databot/binance-eth_btc/binance_dataset_2021-02-13_2472772879.csv\n",
      "processing ./lob-databot/binance-eth_btc/binance_dataset_2021-02-09_2420569459.csv\n",
      "processing ./lob-databot/binance-eth_btc/binance_dataset_2021-02-08_2420193864.csv\n",
      "processing ./lob-databot/binance-eth_btc/binance_dataset_2021-02-10_2420569459.csv\n",
      "processing ./lob-databot/binance-eth_btc/binance_dataset_2021-02-25_2570438093.csv\n",
      "processing ./lob-databot/binance-eth_btc/binance_dataset_2021-02-16_2472772879.csv\n"
     ]
    }
   ],
   "source": [
    "for subdir, dirs, files in os.walk(input_path):\n",
    "    for file in files:\n",
    "        if file.endswith((\".csv\")):\n",
    "            data_path = os.path.join(subdir, file)\n",
    "            print('processing', data_path)\n",
    "            filename = os.path.splitext(file)[0]\n",
    "            delta_cat_count_json[filename] = {}\n",
    "            # read csv data\n",
    "            binance_ethbtc = pd.read_csv(data_path, names=header_list, index_col='timestamp')\n",
    "\n",
    "            # sort df by timestamp\n",
    "            binance_ethbtc.sort_index(inplace=True)\n",
    "\n",
    "            # reorder columns and filter\n",
    "            binance_ethbtc = binance_ethbtc[new_lob_order].dropna()\n",
    "\n",
    "            for t in delta_t:\n",
    "                # print('For a difference of', t, 'seconds:')\n",
    "                y = define_y_labels(binance_ethbtc['last'], t, band_size = 0.002)[t:]\n",
    "                # print(y.value_counts(normalize=True))\n",
    "                delta_cat_count_json[filename][str(t)] = y.value_counts(normalize=True).to_json()"
   ]
  },
  {
   "cell_type": "code",
   "execution_count": 8,
   "metadata": {},
   "outputs": [],
   "source": [
    "def unpack(x):\n",
    "    # print(x)\n",
    "    no_movement = json.loads(x)['1']\n",
    "    # print(no_movement)\n",
    "    return no_movement"
   ]
  },
  {
   "cell_type": "code",
   "execution_count": 9,
   "metadata": {},
   "outputs": [],
   "source": [
    "delta_cat_count_df = pd.DataFrame(delta_cat_count_json).transpose()"
   ]
  },
  {
   "cell_type": "code",
   "execution_count": 10,
   "metadata": {},
   "outputs": [
    {
     "output_type": "execute_result",
     "data": {
      "text/plain": [
       "                                                                                     600  \\\n",
       "binance_dataset_2021-02-07_2377073425  {\"1\":0.5223407491,\"0\":0.2639834374,\"2\":0.21367...   \n",
       "binance_dataset_2021-02-08_2420569459  {\"0\":0.3656337279,\"1\":0.3196967682,\"2\":0.31466...   \n",
       "binance_dataset_2021-01-20_2206742115  {\"1\":0.4294554615,\"0\":0.3062592856,\"2\":0.26428...   \n",
       "binance_dataset_2021-02-11_2448256654  {\"1\":0.5360197818,\"0\":0.256760448,\"2\":0.207219...   \n",
       "binance_dataset_2021-02-26_2570438093  {\"1\":0.5169391471,\"2\":0.2443119284,\"0\":0.23874...   \n",
       "...                                                                                  ...   \n",
       "binance_dataset_2021-02-09_2420569459  {\"1\":0.4360518729,\"0\":0.2918840681,\"2\":0.27206...   \n",
       "binance_dataset_2021-02-08_2420193864  {\"0\":0.7165354331,\"2\":0.2204724409,\"1\":0.06299...   \n",
       "binance_dataset_2021-02-10_2420569459  {\"1\":0.5679113281,\"2\":0.2281269344,\"0\":0.20396...   \n",
       "binance_dataset_2021-02-25_2570438093  {\"1\":0.6178113014,\"0\":0.232404957,\"2\":0.149783...   \n",
       "binance_dataset_2021-02-16_2472772879  {\"1\":0.6897646249,\"0\":0.1737014692,\"2\":0.13653...   \n",
       "\n",
       "                                                                                     300  \\\n",
       "binance_dataset_2021-02-07_2377073425  {\"1\":0.6644054363,\"0\":0.1799776208,\"2\":0.15561...   \n",
       "binance_dataset_2021-02-08_2420569459  {\"1\":0.4574218235,\"0\":0.2867132867,\"2\":0.25586...   \n",
       "binance_dataset_2021-01-20_2206742115  {\"1\":0.5946464191,\"0\":0.2093172897,\"2\":0.19603...   \n",
       "binance_dataset_2021-02-11_2448256654  {\"1\":0.7013842168,\"0\":0.1601941053,\"2\":0.13842...   \n",
       "binance_dataset_2021-02-26_2570438093  {\"1\":0.6602351163,\"0\":0.1723390289,\"2\":0.16742...   \n",
       "...                                                                                  ...   \n",
       "binance_dataset_2021-02-09_2420569459  {\"1\":0.5475218388,\"0\":0.2269253586,\"2\":0.22555...   \n",
       "binance_dataset_2021-02-08_2420193864  {\"0\":0.6496815287,\"2\":0.225477707,\"1\":0.124840...   \n",
       "binance_dataset_2021-02-10_2420569459  {\"1\":0.7024057543,\"2\":0.1583118984,\"0\":0.13928...   \n",
       "binance_dataset_2021-02-25_2570438093  {\"1\":0.765674919,\"0\":0.1317889796,\"2\":0.102536...   \n",
       "binance_dataset_2021-02-16_2472772879  {\"1\":0.8134615608,\"0\":0.0972288442,\"2\":0.08930...   \n",
       "\n",
       "                                                                                     100  \n",
       "binance_dataset_2021-02-07_2377073425  {\"1\":0.8745028723,\"0\":0.066620927,\"2\":0.058876...  \n",
       "binance_dataset_2021-02-08_2420569459  {\"1\":0.7124557028,\"0\":0.1498096863,\"2\":0.13773...  \n",
       "binance_dataset_2021-01-20_2206742115  {\"1\":0.8440279828,\"2\":0.0807778705,\"0\":0.07519...  \n",
       "binance_dataset_2021-02-11_2448256654  {\"1\":0.8880657731,\"0\":0.0601778501,\"2\":0.05175...  \n",
       "binance_dataset_2021-02-26_2570438093  {\"1\":0.8626988687,\"2\":0.0705327601,\"0\":0.06676...  \n",
       "...                                                                                  ...  \n",
       "binance_dataset_2021-02-09_2420569459  {\"1\":0.7959406297,\"2\":0.1043506516,\"0\":0.09970...  \n",
       "binance_dataset_2021-02-08_2420193864  {\"0\":0.5305084746,\"1\":0.2813559322,\"2\":0.18813...  \n",
       "binance_dataset_2021-02-10_2420569459  {\"1\":0.8570466448,\"2\":0.0752679432,\"0\":0.06768...  \n",
       "binance_dataset_2021-02-25_2570438093  {\"1\":0.9322299106,\"0\":0.0352469372,\"2\":0.03252...  \n",
       "binance_dataset_2021-02-16_2472772879  {\"1\":0.9340897753,\"0\":0.0341559059,\"2\":0.03175...  \n",
       "\n",
       "[65 rows x 3 columns]"
      ],
      "text/html": "<div>\n<style scoped>\n    .dataframe tbody tr th:only-of-type {\n        vertical-align: middle;\n    }\n\n    .dataframe tbody tr th {\n        vertical-align: top;\n    }\n\n    .dataframe thead th {\n        text-align: right;\n    }\n</style>\n<table border=\"1\" class=\"dataframe\">\n  <thead>\n    <tr style=\"text-align: right;\">\n      <th></th>\n      <th>600</th>\n      <th>300</th>\n      <th>100</th>\n    </tr>\n  </thead>\n  <tbody>\n    <tr>\n      <th>binance_dataset_2021-02-07_2377073425</th>\n      <td>{\"1\":0.5223407491,\"0\":0.2639834374,\"2\":0.21367...</td>\n      <td>{\"1\":0.6644054363,\"0\":0.1799776208,\"2\":0.15561...</td>\n      <td>{\"1\":0.8745028723,\"0\":0.066620927,\"2\":0.058876...</td>\n    </tr>\n    <tr>\n      <th>binance_dataset_2021-02-08_2420569459</th>\n      <td>{\"0\":0.3656337279,\"1\":0.3196967682,\"2\":0.31466...</td>\n      <td>{\"1\":0.4574218235,\"0\":0.2867132867,\"2\":0.25586...</td>\n      <td>{\"1\":0.7124557028,\"0\":0.1498096863,\"2\":0.13773...</td>\n    </tr>\n    <tr>\n      <th>binance_dataset_2021-01-20_2206742115</th>\n      <td>{\"1\":0.4294554615,\"0\":0.3062592856,\"2\":0.26428...</td>\n      <td>{\"1\":0.5946464191,\"0\":0.2093172897,\"2\":0.19603...</td>\n      <td>{\"1\":0.8440279828,\"2\":0.0807778705,\"0\":0.07519...</td>\n    </tr>\n    <tr>\n      <th>binance_dataset_2021-02-11_2448256654</th>\n      <td>{\"1\":0.5360197818,\"0\":0.256760448,\"2\":0.207219...</td>\n      <td>{\"1\":0.7013842168,\"0\":0.1601941053,\"2\":0.13842...</td>\n      <td>{\"1\":0.8880657731,\"0\":0.0601778501,\"2\":0.05175...</td>\n    </tr>\n    <tr>\n      <th>binance_dataset_2021-02-26_2570438093</th>\n      <td>{\"1\":0.5169391471,\"2\":0.2443119284,\"0\":0.23874...</td>\n      <td>{\"1\":0.6602351163,\"0\":0.1723390289,\"2\":0.16742...</td>\n      <td>{\"1\":0.8626988687,\"2\":0.0705327601,\"0\":0.06676...</td>\n    </tr>\n    <tr>\n      <th>...</th>\n      <td>...</td>\n      <td>...</td>\n      <td>...</td>\n    </tr>\n    <tr>\n      <th>binance_dataset_2021-02-09_2420569459</th>\n      <td>{\"1\":0.4360518729,\"0\":0.2918840681,\"2\":0.27206...</td>\n      <td>{\"1\":0.5475218388,\"0\":0.2269253586,\"2\":0.22555...</td>\n      <td>{\"1\":0.7959406297,\"2\":0.1043506516,\"0\":0.09970...</td>\n    </tr>\n    <tr>\n      <th>binance_dataset_2021-02-08_2420193864</th>\n      <td>{\"0\":0.7165354331,\"2\":0.2204724409,\"1\":0.06299...</td>\n      <td>{\"0\":0.6496815287,\"2\":0.225477707,\"1\":0.124840...</td>\n      <td>{\"0\":0.5305084746,\"1\":0.2813559322,\"2\":0.18813...</td>\n    </tr>\n    <tr>\n      <th>binance_dataset_2021-02-10_2420569459</th>\n      <td>{\"1\":0.5679113281,\"2\":0.2281269344,\"0\":0.20396...</td>\n      <td>{\"1\":0.7024057543,\"2\":0.1583118984,\"0\":0.13928...</td>\n      <td>{\"1\":0.8570466448,\"2\":0.0752679432,\"0\":0.06768...</td>\n    </tr>\n    <tr>\n      <th>binance_dataset_2021-02-25_2570438093</th>\n      <td>{\"1\":0.6178113014,\"0\":0.232404957,\"2\":0.149783...</td>\n      <td>{\"1\":0.765674919,\"0\":0.1317889796,\"2\":0.102536...</td>\n      <td>{\"1\":0.9322299106,\"0\":0.0352469372,\"2\":0.03252...</td>\n    </tr>\n    <tr>\n      <th>binance_dataset_2021-02-16_2472772879</th>\n      <td>{\"1\":0.6897646249,\"0\":0.1737014692,\"2\":0.13653...</td>\n      <td>{\"1\":0.8134615608,\"0\":0.0972288442,\"2\":0.08930...</td>\n      <td>{\"1\":0.9340897753,\"0\":0.0341559059,\"2\":0.03175...</td>\n    </tr>\n  </tbody>\n</table>\n<p>65 rows × 3 columns</p>\n</div>"
     },
     "metadata": {},
     "execution_count": 10
    }
   ],
   "source": [
    "delta_cat_count_df"
   ]
  },
  {
   "cell_type": "code",
   "execution_count": 11,
   "metadata": {},
   "outputs": [],
   "source": [
    "delta_cat_count_df = delta_cat_count_df.applymap(unpack)"
   ]
  },
  {
   "cell_type": "code",
   "execution_count": 12,
   "metadata": {},
   "outputs": [
    {
     "output_type": "execute_result",
     "data": {
      "text/plain": [
       "             600        300        100\n",
       "count  61.000000  62.000000  63.000000\n",
       "mean    0.545207   0.676948   0.872410\n",
       "std     0.136384   0.158705   0.101887\n",
       "min     0.062992   0.000000   0.281356\n",
       "25%     0.443928   0.611331   0.842917\n",
       "50%     0.560117   0.703667   0.888066\n",
       "75%     0.638608   0.782084   0.936586\n",
       "max     0.799641   0.898723   0.971982"
      ],
      "text/html": "<div>\n<style scoped>\n    .dataframe tbody tr th:only-of-type {\n        vertical-align: middle;\n    }\n\n    .dataframe tbody tr th {\n        vertical-align: top;\n    }\n\n    .dataframe thead th {\n        text-align: right;\n    }\n</style>\n<table border=\"1\" class=\"dataframe\">\n  <thead>\n    <tr style=\"text-align: right;\">\n      <th></th>\n      <th>600</th>\n      <th>300</th>\n      <th>100</th>\n    </tr>\n  </thead>\n  <tbody>\n    <tr>\n      <th>count</th>\n      <td>61.000000</td>\n      <td>62.000000</td>\n      <td>63.000000</td>\n    </tr>\n    <tr>\n      <th>mean</th>\n      <td>0.545207</td>\n      <td>0.676948</td>\n      <td>0.872410</td>\n    </tr>\n    <tr>\n      <th>std</th>\n      <td>0.136384</td>\n      <td>0.158705</td>\n      <td>0.101887</td>\n    </tr>\n    <tr>\n      <th>min</th>\n      <td>0.062992</td>\n      <td>0.000000</td>\n      <td>0.281356</td>\n    </tr>\n    <tr>\n      <th>25%</th>\n      <td>0.443928</td>\n      <td>0.611331</td>\n      <td>0.842917</td>\n    </tr>\n    <tr>\n      <th>50%</th>\n      <td>0.560117</td>\n      <td>0.703667</td>\n      <td>0.888066</td>\n    </tr>\n    <tr>\n      <th>75%</th>\n      <td>0.638608</td>\n      <td>0.782084</td>\n      <td>0.936586</td>\n    </tr>\n    <tr>\n      <th>max</th>\n      <td>0.799641</td>\n      <td>0.898723</td>\n      <td>0.971982</td>\n    </tr>\n  </tbody>\n</table>\n</div>"
     },
     "metadata": {},
     "execution_count": 12
    }
   ],
   "source": [
    "delta_cat_count_df.describe()"
   ]
  },
  {
   "cell_type": "code",
   "execution_count": 13,
   "metadata": {},
   "outputs": [],
   "source": [
    "delta_cat_count_df.to_pickle('./lob-databot/analysis/df_0.002_delta.pkl')"
   ]
  }
 ]
}