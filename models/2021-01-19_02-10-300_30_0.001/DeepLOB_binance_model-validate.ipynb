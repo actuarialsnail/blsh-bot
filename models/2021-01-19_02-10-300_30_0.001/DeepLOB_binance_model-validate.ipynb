{
 "cells": [
  {
   "cell_type": "code",
   "execution_count": 1,
   "metadata": {},
   "outputs": [],
   "source": [
    "import os\n",
    "os.environ[\"CUDA_VISIBLE_DEVICES\"]=\"1\" # select which GPU(s) to use"
   ]
  },
  {
   "cell_type": "code",
   "execution_count": 2,
   "metadata": {},
   "outputs": [],
   "source": [
    "import numpy as np\n",
    "import pandas as pd\n",
    "import tensorflow as tf\n",
    "from tensorflow.keras import layers\n",
    "from tensorflow.keras.models import Model\n",
    "from tensorflow.keras import Input\n",
    "from tensorflow.keras.layers import LSTM\n",
    "from tensorflow.keras.utils import to_categorical\n",
    "from tensorflow.keras.models import load_model"
   ]
  },
  {
   "cell_type": "code",
   "execution_count": 3,
   "metadata": {},
   "outputs": [],
   "source": [
    "physical_devices = tf.config.experimental.list_physical_devices('GPU')\n",
    "assert len(physical_devices) > 0, \"Not enough GPU hardware devices available\"\n",
    "config = tf.config.experimental.set_memory_growth(physical_devices[0], True)"
   ]
  },
  {
   "cell_type": "code",
   "execution_count": 5,
   "metadata": {},
   "outputs": [],
   "source": [
    "predict_model = load_model('./models/2021-01-19_02-10-300_30_0.001/ckpt-loss=0.38-epoch=0100/')\n",
    "datasample_period = 300\n",
    "feature_columns = 40\n",
    "prediction_period = 30\n",
    "band_size = 0.001\n",
    "test_path = './datasets/train/binance_dataset_2021-02-10_2420569459.npy'"
   ]
  },
  {
   "cell_type": "code",
   "execution_count": 8,
   "metadata": {},
   "outputs": [],
   "source": [
    "def get_model_data(data, sample_size, feature_num, band_size):\n",
    "   \n",
    "    # generate X, Y\n",
    "    shape = data.shape\n",
    "    X = np.zeros((shape[0]-sample_size, sample_size, feature_num), dtype=np.float16)\n",
    "    Y = np.zeros(shape=(shape[0]-sample_size, 1), dtype=np.int)\n",
    "    for i in range(shape[0]-sample_size):\n",
    "        # take the first feature_num columns as features\n",
    "        X[i] = data[i:i+sample_size, 1:feature_num+1]\n",
    "        delta_last = (data[i+sample_size-1, 0] - data[i, 0]) / data[i+sample_size-1, 0]\n",
    "        if delta_last < -band_size:\n",
    "            Y[i] = 0\n",
    "        elif delta_last > band_size:\n",
    "            Y[i] = 2\n",
    "        else:\n",
    "            Y[i] = 1\n",
    "    # add the 4th dimension: 1 channel\n",
    "    X = X.reshape(X.shape[0], sample_size, feature_num, 1)\n",
    "\n",
    "    # calculate sample_weights for Y\n",
    "    sample_weights_y = np.append(Y.flatten(), [0,1,2]) # to ensure exhaustive coverage\n",
    "\n",
    "    # transform y to categorical arrays\n",
    "    y_labels = to_categorical(sample_weights_y)[:-3]\n",
    "    \n",
    "    return X, y_labels"
   ]
  },
  {
   "cell_type": "code",
   "execution_count": 9,
   "metadata": {},
   "outputs": [],
   "source": [
    "test_data =  np.load(test_path)\n",
    "test_X, test_Y = get_model_data(test_data, datasample_period, feature_columns, band_size)"
   ]
  },
  {
   "cell_type": "code",
   "execution_count": 11,
   "metadata": {},
   "outputs": [
    {
     "name": "stdout",
     "output_type": "stream",
     "text": [
      "2147/2147 [==============================] - 31s 11ms/step - loss: 0.4321 - accuracy: 0.8089\n"
     ]
    },
    {
     "data": {
      "text/plain": [
       "[0.43208572268486023, 0.8089261054992676]"
      ]
     },
     "execution_count": 11,
     "metadata": {},
     "output_type": "execute_result"
    }
   ],
   "source": [
    "predict_model.evaluate(test_X, test_Y)"
   ]
  },
  {
   "cell_type": "code",
   "execution_count": 12,
   "metadata": {},
   "outputs": [],
   "source": [
    "df = pd.DataFrame(predict_model.predict(test_X))"
   ]
  },
  {
   "cell_type": "code",
   "execution_count": 22,
   "metadata": {},
   "outputs": [],
   "source": [
    "df['Y'] = np.argmax(test_Y, axis=1) # reverse to_categorical"
   ]
  },
  {
   "cell_type": "code",
   "execution_count": 33,
   "metadata": {},
   "outputs": [
    {
     "data": {
      "text/html": [
       "<div>\n",
       "<style scoped>\n",
       "    .dataframe tbody tr th:only-of-type {\n",
       "        vertical-align: middle;\n",
       "    }\n",
       "\n",
       "    .dataframe tbody tr th {\n",
       "        vertical-align: top;\n",
       "    }\n",
       "\n",
       "    .dataframe thead th {\n",
       "        text-align: right;\n",
       "    }\n",
       "</style>\n",
       "<table border=\"1\" class=\"dataframe\">\n",
       "  <thead>\n",
       "    <tr style=\"text-align: right;\">\n",
       "      <th></th>\n",
       "      <th>0</th>\n",
       "      <th>1</th>\n",
       "      <th>2</th>\n",
       "      <th>Y</th>\n",
       "    </tr>\n",
       "  </thead>\n",
       "  <tbody>\n",
       "    <tr>\n",
       "      <th>count</th>\n",
       "      <td>6.867500e+04</td>\n",
       "      <td>68675.000000</td>\n",
       "      <td>6.867500e+04</td>\n",
       "      <td>68675.000000</td>\n",
       "    </tr>\n",
       "    <tr>\n",
       "      <th>mean</th>\n",
       "      <td>3.552453e-01</td>\n",
       "      <td>0.381824</td>\n",
       "      <td>2.629305e-01</td>\n",
       "      <td>0.999985</td>\n",
       "    </tr>\n",
       "    <tr>\n",
       "      <th>std</th>\n",
       "      <td>3.951238e-01</td>\n",
       "      <td>0.335083</td>\n",
       "      <td>3.656421e-01</td>\n",
       "      <td>0.773643</td>\n",
       "    </tr>\n",
       "    <tr>\n",
       "      <th>min</th>\n",
       "      <td>1.757327e-09</td>\n",
       "      <td>0.000049</td>\n",
       "      <td>4.340820e-10</td>\n",
       "      <td>0.000000</td>\n",
       "    </tr>\n",
       "    <tr>\n",
       "      <th>25%</th>\n",
       "      <td>3.303000e-03</td>\n",
       "      <td>0.045818</td>\n",
       "      <td>7.006086e-04</td>\n",
       "      <td>0.000000</td>\n",
       "    </tr>\n",
       "    <tr>\n",
       "      <th>50%</th>\n",
       "      <td>1.319374e-01</td>\n",
       "      <td>0.314769</td>\n",
       "      <td>3.116319e-02</td>\n",
       "      <td>1.000000</td>\n",
       "    </tr>\n",
       "    <tr>\n",
       "      <th>75%</th>\n",
       "      <td>7.873277e-01</td>\n",
       "      <td>0.686489</td>\n",
       "      <td>5.099274e-01</td>\n",
       "      <td>2.000000</td>\n",
       "    </tr>\n",
       "    <tr>\n",
       "      <th>max</th>\n",
       "      <td>9.999182e-01</td>\n",
       "      <td>0.986370</td>\n",
       "      <td>9.999512e-01</td>\n",
       "      <td>2.000000</td>\n",
       "    </tr>\n",
       "  </tbody>\n",
       "</table>\n",
       "</div>"
      ],
      "text/plain": [
       "                  0             1             2             Y\n",
       "count  6.867500e+04  68675.000000  6.867500e+04  68675.000000\n",
       "mean   3.552453e-01      0.381824  2.629305e-01      0.999985\n",
       "std    3.951238e-01      0.335083  3.656421e-01      0.773643\n",
       "min    1.757327e-09      0.000049  4.340820e-10      0.000000\n",
       "25%    3.303000e-03      0.045818  7.006086e-04      0.000000\n",
       "50%    1.319374e-01      0.314769  3.116319e-02      1.000000\n",
       "75%    7.873277e-01      0.686489  5.099274e-01      2.000000\n",
       "max    9.999182e-01      0.986370  9.999512e-01      2.000000"
      ]
     },
     "execution_count": 33,
     "metadata": {},
     "output_type": "execute_result"
    }
   ],
   "source": [
    "df.describe()"
   ]
  },
  {
   "cell_type": "code",
   "execution_count": 27,
   "metadata": {},
   "outputs": [
    {
     "data": {
      "text/plain": [
       "0    18560\n",
       "1    18560\n",
       "2    18560\n",
       "Y    18560\n",
       "dtype: int64"
      ]
     },
     "execution_count": 27,
     "metadata": {},
     "output_type": "execute_result"
    }
   ],
   "source": [
    "# correctly predicted down\n",
    "df[(df['Y']==0)&(df[0]>=0.5)].count()"
   ]
  },
  {
   "cell_type": "code",
   "execution_count": 28,
   "metadata": {},
   "outputs": [
    {
     "data": {
      "text/plain": [
       "0    1992\n",
       "1    1992\n",
       "2    1992\n",
       "Y    1992\n",
       "dtype: int64"
      ]
     },
     "execution_count": 28,
     "metadata": {},
     "output_type": "execute_result"
    }
   ],
   "source": [
    "# incorrectly predicted down\n",
    "df[(df['Y']==0)&(df[0]<0.5)].count()"
   ]
  },
  {
   "cell_type": "code",
   "execution_count": 29,
   "metadata": {
    "scrolled": true
   },
   "outputs": [
    {
     "data": {
      "text/plain": [
       "0    20492\n",
       "1    20492\n",
       "2    20492\n",
       "Y    20492\n",
       "dtype: int64"
      ]
     },
     "execution_count": 29,
     "metadata": {},
     "output_type": "execute_result"
    }
   ],
   "source": [
    "# correctly predicted level\n",
    "df[(df['Y']==1)&(df[1]>=0.5)].count()"
   ]
  },
  {
   "cell_type": "code",
   "execution_count": 30,
   "metadata": {},
   "outputs": [
    {
     "data": {
      "text/plain": [
       "0    7080\n",
       "1    7080\n",
       "2    7080\n",
       "Y    7080\n",
       "dtype: int64"
      ]
     },
     "execution_count": 30,
     "metadata": {},
     "output_type": "execute_result"
    }
   ],
   "source": [
    "# incorrectly predicted level\n",
    "df[(df['Y']==1)&(df[1]<0.5)].count()"
   ]
  },
  {
   "cell_type": "code",
   "execution_count": 31,
   "metadata": {},
   "outputs": [
    {
     "data": {
      "text/plain": [
       "0    15952\n",
       "1    15952\n",
       "2    15952\n",
       "Y    15952\n",
       "dtype: int64"
      ]
     },
     "execution_count": 31,
     "metadata": {},
     "output_type": "execute_result"
    }
   ],
   "source": [
    "# correctly predicted up\n",
    "df[(df['Y']==2)&(df[2]>=0.5)].count()"
   ]
  },
  {
   "cell_type": "code",
   "execution_count": 32,
   "metadata": {},
   "outputs": [
    {
     "data": {
      "text/plain": [
       "0    4599\n",
       "1    4599\n",
       "2    4599\n",
       "Y    4599\n",
       "dtype: int64"
      ]
     },
     "execution_count": 32,
     "metadata": {},
     "output_type": "execute_result"
    }
   ],
   "source": [
    "# incorrectly predicted up\n",
    "df[(df['Y']==2)&(df[2]<0.5)].count()"
   ]
  }
 ],
 "metadata": {
  "kernelspec": {
   "display_name": "Python 3",
   "language": "python",
   "name": "python3"
  },
  "language_info": {
   "codemirror_mode": {
    "name": "ipython",
    "version": 3
   },
   "file_extension": ".py",
   "mimetype": "text/x-python",
   "name": "python",
   "nbconvert_exporter": "python",
   "pygments_lexer": "ipython3",
   "version": "3.8.8"
  }
 },
 "nbformat": 4,
 "nbformat_minor": 4
}
